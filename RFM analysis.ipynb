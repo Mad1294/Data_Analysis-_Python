{
 "cells": [
  {
   "cell_type": "code",
   "execution_count": null,
   "id": "24a5c465",
   "metadata": {},
   "outputs": [],
   "source": [
    "#!pip install plotly\n",
    "\n",
    "import pandas as pd\n",
    "from datetime import datetime\n",
    "import plotly.express as px\n",
    "import plotly.io as pio\n",
    "import plotly.colors\n",
    "import plotly.graph_objects as go\n",
    "pio.templates.default = \"plotly_white\""
   ]
  },
  {
   "cell_type": "code",
   "execution_count": null,
   "id": "0e9dfd4f",
   "metadata": {},
   "outputs": [],
   "source": [
    "df= pd.read_csv(\".\\\\rfm_data.csv\")\n",
    "df\n",
    "                "
   ]
  },
  {
   "cell_type": "code",
   "execution_count": null,
   "id": "3615975e",
   "metadata": {},
   "outputs": [],
   "source": [
    "# convert datetime\n",
    "\n",
    "df[\"PurchaseDate\"]=pd.to_datetime(df[\"PurchaseDate\"], format = \"%Y-%m-%d\")"
   ]
  },
  {
   "cell_type": "code",
   "execution_count": null,
   "id": "2bb39dce",
   "metadata": {},
   "outputs": [],
   "source": [
    "# calculate Recency\n",
    "\n",
    "df['Recency'] = (datetime.now().date() - df['PurchaseDate'].dt.date).dt.days"
   ]
  },
  {
   "cell_type": "code",
   "execution_count": null,
   "id": "c39f6b95",
   "metadata": {},
   "outputs": [],
   "source": [
    "# Calculate Frequency\n",
    "\n",
    "frequency_data = df.groupby('CustomerID')['OrderID'].count().reset_index()\n",
    "frequency_data.rename(columns={'OrderID': 'Frequency'}, inplace=True)\n",
    "df= df.merge(frequency_data, on='CustomerID', how='left')"
   ]
  },
  {
   "cell_type": "code",
   "execution_count": null,
   "id": "6720ee39",
   "metadata": {},
   "outputs": [],
   "source": [
    "# Calculate Monetary Value\n",
    "\n",
    "monetory_data= df.groupby(\"CustomerID\")[\"TransactionAmount\"].sum().reset_index()\n",
    "monetory_data.rename(columns={'TransactionAmount':'MonetoryValue'}, inplace=True)\n",
    "df = df.merge(monetory_data, on= \"CustomerID\", how = \"left\" )"
   ]
  },
  {
   "cell_type": "code",
   "execution_count": null,
   "id": "95907702",
   "metadata": {},
   "outputs": [],
   "source": [
    "df"
   ]
  },
  {
   "cell_type": "code",
   "execution_count": null,
   "id": "6607259a",
   "metadata": {},
   "outputs": [],
   "source": [
    "# Defining score for each RFM value\n",
    "recency_scores = [5, 4, 3, 2, 1]  # Higher score for lower recency (more recent)\n",
    "frequency_scores = [1, 2, 3, 4, 5]  # Higher score for higher frequency\n",
    "monetary_scores = [1, 2, 3, 4, 5]  # Higher score for higher monetary value\n",
    "\n",
    "# Calculate RFM scores\n",
    "df['RecencyScore'] = pd.cut(df['Recency'], bins=5, labels=recency_scores)\n",
    "df['FrequencyScore'] = pd.cut(df['Frequency'], bins=5, labels=frequency_scores)\n",
    "df['MonetaryScore'] = pd.cut(df['MonetoryValue'], bins=5, labels=monetary_scores)"
   ]
  },
  {
   "cell_type": "code",
   "execution_count": null,
   "id": "44845f39",
   "metadata": {},
   "outputs": [],
   "source": [
    "# Convert RFM scores to numeric type\n",
    "df['RecencyScore'] = df['RecencyScore'].astype(int)\n",
    "df['FrequencyScore'] = df['FrequencyScore'].astype(int)\n",
    "df['MonetaryScore'] = df['MonetaryScore'].astype(int)"
   ]
  },
  {
   "cell_type": "code",
   "execution_count": null,
   "id": "3b836772",
   "metadata": {},
   "outputs": [],
   "source": [
    "# Calculate RFM score by combining the individual scores\n",
    "df['RFM_Score'] = df['RecencyScore'] + df['FrequencyScore'] + df['MonetaryScore']\n"
   ]
  },
  {
   "cell_type": "code",
   "execution_count": null,
   "id": "8b6039bb",
   "metadata": {},
   "outputs": [],
   "source": [
    "# Create RFM segments based on the RFM score\n",
    "segment_labels = ['Low-Value', 'Mid-Value', 'High-Value']\n",
    "df['Value Segment'] = pd.qcut(df['RFM_Score'], q=3, labels=segment_labels)"
   ]
  },
  {
   "cell_type": "code",
   "execution_count": null,
   "id": "935046a4",
   "metadata": {},
   "outputs": [],
   "source": [
    "df.head()"
   ]
  },
  {
   "cell_type": "code",
   "execution_count": null,
   "id": "a582c990",
   "metadata": {},
   "outputs": [],
   "source": [
    "# RFM Segment Distribution\n",
    "segment_counts = df['Value Segment'].value_counts().reset_index()\n",
    "segment_counts.columns = ['Value Segment', 'Count']"
   ]
  },
  {
   "cell_type": "code",
   "execution_count": null,
   "id": "e63daeab",
   "metadata": {},
   "outputs": [],
   "source": [
    "pastel_colors = px.colors.qualitative.Pastel"
   ]
  },
  {
   "cell_type": "code",
   "execution_count": null,
   "id": "04ffd684",
   "metadata": {},
   "outputs": [],
   "source": [
    "# Create the bar chart\n",
    "fig_segment_dist = px.bar(segment_counts, x='Value Segment', y='Count', \n",
    "                          color='Value Segment', color_discrete_sequence=pastel_colors,\n",
    "                          title='RFM Value Segment Distribution')\n",
    "\n",
    "# Update the layout\n",
    "fig_segment_dist.update_layout(xaxis_title='RFM Value Segment',\n",
    "                              yaxis_title='Count',\n",
    "                              showlegend=False)\n",
    "\n",
    "# Show the figure\n",
    "fig_segment_dist.show()"
   ]
  },
  {
   "cell_type": "code",
   "execution_count": null,
   "id": "72e95d15",
   "metadata": {},
   "outputs": [],
   "source": [
    "# Create a new column for RFM Customer Segments\n",
    "df['RFM Customer Segments'] = ''\n",
    "\n",
    "# Assign RFM segments based on the RFM score\n",
    "df.loc[df['RFM_Score'] >= 9, 'RFM Customer Segments'] = 'Champions'\n",
    "df.loc[(df['RFM_Score'] >= 6) & (df['RFM_Score'] < 9), 'RFM Customer Segments'] = 'Potential Loyalists'\n",
    "df.loc[(df['RFM_Score'] >= 5) & (df['RFM_Score'] < 6), 'RFM Customer Segments'] = 'At risk Customers' \n",
    "df.loc[(df['RFM_Score'] >= 4) & (df['RFM_Score'] < 5), 'RFM Customer Segments'] = \"Cant loose\"\n",
    "df.loc[(df['RFM_Score'] >= 3) & (df['RFM_Score'] < 4), 'RFM Customer Segments'] = \"Lost\"\n",
    "\n",
    "# Print the updated data with RFM segments\n",
    "print(df[['CustomerID', 'RFM Customer Segments']])"
   ]
  },
  {
   "cell_type": "code",
   "execution_count": null,
   "id": "b7876274",
   "metadata": {},
   "outputs": [],
   "source": [
    "segment_product_counts = df.groupby(['Value Segment', 'RFM Customer Segments']).size().reset_index(name='Count')\n",
    "\n",
    "segment_product_counts = segment_product_counts.sort_values('Count', ascending=False)\n",
    "\n",
    "fig_treemap_segment_product = px.treemap(segment_product_counts, \n",
    "                                         path=['Value Segment', 'RFM Customer Segments'], \n",
    "                                         values='Count',\n",
    "                                         color='Value Segment',  color_discrete_sequence=px.colors.qualitative.Pastel,\n",
    "                                         title='RFM Customer Segments by Value')\n",
    "fig_treemap_segment_product.show()"
   ]
  },
  {
   "cell_type": "code",
   "execution_count": null,
   "id": "6cdec865",
   "metadata": {},
   "outputs": [],
   "source": [
    "# Filter the data to include only the customers in the Champions segment\n",
    "champions_segment = df[df['RFM Customer Segments'] == 'Champions']\n",
    "\n",
    "fig = go.Figure()\n",
    "fig.add_trace(go.Box(y=champions_segment['RecencyScore'], name='Recency'))\n",
    "fig.add_trace(go.Box(y=champions_segment['FrequencyScore'], name='Frequency'))\n",
    "fig.add_trace(go.Box(y=champions_segment['MonetaryScore'], name='Monetary'))\n",
    "\n",
    "fig.update_layout(title='Distribution of RFM Values within Champions Segment',\n",
    "                  yaxis_title='RFM Value',\n",
    "                  showlegend=True)\n",
    "\n",
    "fig.show()"
   ]
  },
  {
   "cell_type": "code",
   "execution_count": null,
   "id": "d57e82ca",
   "metadata": {},
   "outputs": [],
   "source": [
    "correlation_matrix = champions_segment[['RecencyScore', 'FrequencyScore', 'MonetaryScore']].corr()\n",
    "\n",
    "# Visualize the correlation matrix using a heatmap\n",
    "fig_heatmap = go.Figure(data=go.Heatmap(\n",
    "                   z=correlation_matrix.values,\n",
    "                   x=correlation_matrix.columns,\n",
    "                   y=correlation_matrix.columns,\n",
    "                   colorscale='RdBu',\n",
    "                   colorbar=dict(title='Correlation')))\n",
    "\n",
    "fig_heatmap.update_layout(title='Correlation Matrix of RFM Values within Champions Segment')\n",
    "\n",
    "fig_heatmap.show()"
   ]
  },
  {
   "cell_type": "code",
   "execution_count": null,
   "id": "b3fc9939",
   "metadata": {},
   "outputs": [],
   "source": [
    "pastel_colors = plotly.colors.qualitative.Pastel\n",
    "\n",
    "segment_counts = df['RFM Customer Segments'].value_counts()\n",
    "\n",
    "# Create a bar chart to compare segment counts\n",
    "fig = go.Figure(data=[go.Bar(x=segment_counts.index, y=segment_counts.values,\n",
    "                            marker=dict(color=pastel_colors))])\n",
    "\n",
    "# Set the color of the Champions segment as a different color\n",
    "champions_color = 'rgb(158, 202, 225)'\n",
    "fig.update_traces(marker_color=[champions_color if segment == 'Champions' else pastel_colors[i]\n",
    "                                for i, segment in enumerate(segment_counts.index)],\n",
    "                  marker_line_color='rgb(8, 48, 107)',\n",
    "                  marker_line_width=1.5, opacity=0.6)\n",
    "\n",
    "# Update the layout\n",
    "fig.update_layout(title='Comparison of RFM Segments',\n",
    "                  xaxis_title='RFM Segments',\n",
    "                  yaxis_title='Number of Customers',\n",
    "                  showlegend=False)\n",
    "\n",
    "fig.show()"
   ]
  },
  {
   "cell_type": "code",
   "execution_count": null,
   "id": "34b79855",
   "metadata": {},
   "outputs": [],
   "source": [
    "# Calculate the average Recency, Frequency, and Monetary scores for each segment\n",
    "segment_scores = df.groupby('RFM Customer Segments')['RecencyScore', 'FrequencyScore', 'MonetaryScore'].mean().reset_index()\n",
    "\n",
    "# Create a grouped bar chart to compare segment scores\n",
    "fig = go.Figure()\n",
    "\n",
    "# Add bars for Recency score\n",
    "fig.add_trace(go.Bar(\n",
    "    x=segment_scores['RFM Customer Segments'],\n",
    "    y=segment_scores['RecencyScore'],\n",
    "    name='Recency Score',\n",
    "    marker_color='rgb(158,202,225)'\n",
    "))\n",
    "\n",
    "# Add bars for Frequency score\n",
    "fig.add_trace(go.Bar(\n",
    "    x=segment_scores['RFM Customer Segments'],\n",
    "    y=segment_scores['FrequencyScore'],\n",
    "    name='Frequency Score',\n",
    "    marker_color='rgb(94,158,217)'\n",
    "))\n",
    "\n",
    "# Add bars for Monetary score\n",
    "fig.add_trace(go.Bar(\n",
    "    x=segment_scores['RFM Customer Segments'],\n",
    "    y=segment_scores['MonetaryScore'],\n",
    "    name='Monetary Score',\n",
    "    marker_color='rgb(32,102,148)'\n",
    "))\n",
    "\n",
    "# Update the layout\n",
    "fig.update_layout(\n",
    "    title='Comparison of RFM Segments based on Recency, Frequency, and Monetary Scores',\n",
    "    xaxis_title='RFM Segments',\n",
    "    yaxis_title='Score',\n",
    "    barmode='group',\n",
    "    showlegend=True\n",
    ")\n",
    "\n",
    "fig.show()"
   ]
  },
  {
   "cell_type": "code",
   "execution_count": null,
   "id": "a6585827",
   "metadata": {},
   "outputs": [],
   "source": []
  }
 ],
 "metadata": {
  "kernelspec": {
   "display_name": "Python 3 (ipykernel)",
   "language": "python",
   "name": "python3"
  },
  "language_info": {
   "codemirror_mode": {
    "name": "ipython",
    "version": 3
   },
   "file_extension": ".py",
   "mimetype": "text/x-python",
   "name": "python",
   "nbconvert_exporter": "python",
   "pygments_lexer": "ipython3",
   "version": "3.7.16"
  }
 },
 "nbformat": 4,
 "nbformat_minor": 5
}
